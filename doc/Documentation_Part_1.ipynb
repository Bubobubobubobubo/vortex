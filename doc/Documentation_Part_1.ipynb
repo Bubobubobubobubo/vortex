{
 "cells": [
  {
   "cell_type": "markdown",
   "id": "51e519ce-1ba5-4ea1-b3f5-76b35fa057ba",
   "metadata": {},
   "source": [
    "# Step-by-Step documentation\n",
    "## Part I: Time, TimeSpan, Event\n",
    "\n",
    "This notebook is meant for anyone to better understand the underlying structures which are used in py-vortex, and to a larger extent in Tidal. <br>\n",
    "Beware that there may be some differences, but at least, this aims to cover the current `py-vortex`implementation in Python hoping to explain it a bit more at low-level<br> \n",
    "There are a couple crucial class in py-vortex, namely Time, TimeSpan, and Event, we will go through in details about how they work.<br>\n",
    "Part II will focus on Pattern only"
   ]
  },
  {
   "cell_type": "code",
   "execution_count": 1,
   "id": "f3ca40fc-1e9f-4db7-9a1d-0465d71bde7b",
   "metadata": {},
   "outputs": [],
   "source": [
    "from py_vortex import *"
   ]
  },
  {
   "cell_type": "markdown",
   "id": "4f18ae15-562d-42d6-b03c-7a64b328765a",
   "metadata": {},
   "source": [
    "# Time\n",
    "Time class is a subclass of fraction. While instanciating a Time object, you can specify it by either one or two floats.<br>\n",
    "If you do so with two numbers, then the fraction is simply the ratio of them<br>\n",
    "If you create it with only one number, it translates it into a fraction<br>\n",
    "Apparently, irrationals does work too (probably rounded)"
   ]
  },
  {
   "cell_type": "code",
   "execution_count": 2,
   "id": "9959c6b5-9d78-4766-b7dc-f49af92a46ee",
   "metadata": {},
   "outputs": [
    {
     "data": {
      "text/plain": [
       "Time(1, 2)"
      ]
     },
     "execution_count": 2,
     "metadata": {},
     "output_type": "execute_result"
    }
   ],
   "source": [
    "Time(1,2)"
   ]
  },
  {
   "cell_type": "code",
   "execution_count": 3,
   "id": "0b8cf0f6-b523-4329-8733-33430352f797",
   "metadata": {},
   "outputs": [
    {
     "data": {
      "text/plain": [
       "Time(1, 2)"
      ]
     },
     "execution_count": 3,
     "metadata": {},
     "output_type": "execute_result"
    }
   ],
   "source": [
    "Time(0.5)"
   ]
  },
  {
   "cell_type": "code",
   "execution_count": 4,
   "id": "12fee21f-7f08-4dfc-b246-424aad575ee8",
   "metadata": {},
   "outputs": [
    {
     "data": {
      "text/plain": [
       "Time(8893444981951847, 72057594037927936)"
      ]
     },
     "execution_count": 4,
     "metadata": {},
     "output_type": "execute_result"
    }
   ],
   "source": [
    "Time(0.12342134234)"
   ]
  },
  {
   "cell_type": "code",
   "execution_count": 5,
   "id": "fafc9372-6c4d-4bf4-9c24-65c451413a68",
   "metadata": {},
   "outputs": [
    {
     "data": {
      "text/plain": [
       "Time(884279719003555, 281474976710656)"
      ]
     },
     "execution_count": 5,
     "metadata": {},
     "output_type": "execute_result"
    }
   ],
   "source": [
    "from math import pi\n",
    "Time(pi)"
   ]
  },
  {
   "cell_type": "markdown",
   "id": "e1b73273-c268-46e6-a877-e3a3f598dfc8",
   "metadata": {},
   "source": [
    "## Methods\n",
    "\n",
    "Time Class has currently 3 methods, `sam`, `next_sam` and `whole_cycle`. <br>\n",
    "Sam refers to indian music, where *sam* is the denomination of the first beat of the cycle.<br>\n",
    "Trivially, `next_sam` is the first beat of the next cycle<br>\n",
    "And whole_duration is a TimeSpan (see below) of a whole cycle <br>"
   ]
  },
  {
   "cell_type": "markdown",
   "id": "2113a7d4-b1d8-43ad-943c-be2781689ff9",
   "metadata": {},
   "source": [
    "### sam"
   ]
  },
  {
   "cell_type": "code",
   "execution_count": 6,
   "id": "3f15d486-d86e-4ad9-83ca-303205ec4d75",
   "metadata": {},
   "outputs": [
    {
     "data": {
      "text/plain": [
       "Time(0, 1)"
      ]
     },
     "execution_count": 6,
     "metadata": {},
     "output_type": "execute_result"
    }
   ],
   "source": [
    "Time(0.43).sam()"
   ]
  },
  {
   "cell_type": "markdown",
   "id": "a441bbc2-81b2-42e5-bca7-d7f70a534d6d",
   "metadata": {},
   "source": [
    "### next_sam"
   ]
  },
  {
   "cell_type": "code",
   "execution_count": 7,
   "id": "74a1c64a-8ad8-49aa-b1be-8c46c1003399",
   "metadata": {},
   "outputs": [
    {
     "data": {
      "text/plain": [
       "Fraction(1, 1)"
      ]
     },
     "execution_count": 7,
     "metadata": {},
     "output_type": "execute_result"
    }
   ],
   "source": [
    "Time(0.43).next_sam()"
   ]
  },
  {
   "cell_type": "markdown",
   "id": "82599445-e8cf-42c4-b7dd-b3a07236b17e",
   "metadata": {},
   "source": [
    "### whole_cycle"
   ]
  },
  {
   "cell_type": "code",
   "execution_count": 8,
   "id": "13e3175e-9508-4459-af80-e1f5ef60f263",
   "metadata": {},
   "outputs": [
    {
     "data": {
      "text/plain": [
       "TimeSpan(Time(0, 1), Time(1, 1))"
      ]
     },
     "execution_count": 8,
     "metadata": {},
     "output_type": "execute_result"
    }
   ],
   "source": [
    "Time(0.42).whole_cycle()"
   ]
  },
  {
   "cell_type": "code",
   "execution_count": 9,
   "id": "ab2f7876-03c7-4497-a93d-d73170afba7f",
   "metadata": {},
   "outputs": [
    {
     "data": {
      "text/plain": [
       "TimeSpan(Time(-3, 1), Time(-2, 1))"
      ]
     },
     "execution_count": 9,
     "metadata": {},
     "output_type": "execute_result"
    }
   ],
   "source": [
    "Time(-2.3).whole_cycle()"
   ]
  },
  {
   "cell_type": "markdown",
   "id": "c808cd9a-6666-4420-8dc6-c7ccb33926df",
   "metadata": {},
   "source": [
    "# TimeSpan\n",
    "As introduced right above, TimeSpan represents a structure that has a certain duration<br>\n",
    "It is commonly used in Event, as will be talked about later.\n",
    "It has 2 attributes: `begin` and `end` and 3 methods `spanCycles`, `withTime` and `sect` <br>\n",
    "We will not count `maybeSect` here since it is just a method for dealing with sect corner cases.<br>\n",
    "TimeSpan `begin` and `end` attributes are themselves `Time` objects. <br>\n",
    "In theory, nothing restricts them to be such like $begin > end$ but in practive it is not the case.<br>"
   ]
  },
  {
   "cell_type": "code",
   "execution_count": 10,
   "id": "75a6878f-b010-4152-afea-07d53c47618e",
   "metadata": {},
   "outputs": [
    {
     "data": {
      "text/plain": [
       "TimeSpan(Time(-3602879701896397, 36028797018963968), Time(3602879701896397, 4503599627370496))"
      ]
     },
     "execution_count": 10,
     "metadata": {},
     "output_type": "execute_result"
    }
   ],
   "source": [
    "TimeSpan(-0.1, 0.8)"
   ]
  },
  {
   "cell_type": "code",
   "execution_count": 11,
   "id": "bff9f883-af09-41f0-a2dc-962abbcb96bd",
   "metadata": {},
   "outputs": [
    {
     "data": {
      "text/plain": [
       "TimeSpan(Time(1, 8), Time(1, 4))"
      ]
     },
     "execution_count": 11,
     "metadata": {},
     "output_type": "execute_result"
    }
   ],
   "source": [
    "TimeSpan(1/8, 1/4)"
   ]
  },
  {
   "cell_type": "markdown",
   "id": "e8877ab1-e4c0-4604-9be5-09afb03b4b5a",
   "metadata": {},
   "source": [
    "## Methods\n",
    "\n",
    "TimeSpan has some critical methods relevant to how Patterns are working, and are used extensively in py-vortex.<br>\n",
    "`spanCycles` allows for a TimeSpan to extend its values to its nearest sam and next_sam.<br>\n",
    "`withtime` allows to apply a function to the begining and the end values of a TimeSpan, basically it allows for a Pattern to modify the duration of an Event (for example) or to the moment it is queried.<br>\n",
    "`sect` is also really useful when querying a pattern, to determine the duration of event within a given cycle.<br>\n",
    "These are just examples of how they can be used, to have a better understanding but they are no such strict rules and everything is possible."
   ]
  },
  {
   "cell_type": "markdown",
   "id": "f08491cd-be4c-4146-99a4-0485e0af5a24",
   "metadata": {},
   "source": [
    "### span_cycles"
   ]
  },
  {
   "cell_type": "code",
   "execution_count": 12,
   "id": "eaddaccd-62ef-46c1-b271-0da6442d981b",
   "metadata": {},
   "outputs": [
    {
     "data": {
      "text/plain": [
       "[TimeSpan(Time(0, 1), Time(1, 1))]"
      ]
     },
     "execution_count": 12,
     "metadata": {},
     "output_type": "execute_result"
    }
   ],
   "source": [
    "TimeSpan(0,1).span_cycles()"
   ]
  },
  {
   "cell_type": "code",
   "execution_count": 13,
   "id": "0e62d20e-44fc-4670-8d33-dbf4f394e3ef",
   "metadata": {},
   "outputs": [
    {
     "data": {
      "text/plain": [
       "[TimeSpan(Time(-1, 4), Time(0, 1)), TimeSpan(Time(0, 1), Time(3, 4))]"
      ]
     },
     "execution_count": 13,
     "metadata": {},
     "output_type": "execute_result"
    }
   ],
   "source": [
    "TimeSpan(-0.25, 0.75).span_cycles()"
   ]
  },
  {
   "cell_type": "code",
   "execution_count": 14,
   "id": "ec850b9f-afb4-4189-b858-696b4da37971",
   "metadata": {},
   "outputs": [
    {
     "data": {
      "text/plain": [
       "[TimeSpan(Time(-9, 4), Time(-2, 1)),\n",
       " TimeSpan(Time(-2, 1), Time(-1, 1)),\n",
       " TimeSpan(Time(-1, 1), Time(0, 1)),\n",
       " TimeSpan(Time(0, 1), Time(1, 1)),\n",
       " TimeSpan(Time(1, 1), Time(2, 1)),\n",
       " TimeSpan(Time(2, 1), Time(3, 1)),\n",
       " TimeSpan(Time(3, 1), Time(3884354678607053, 1125899906842624))]"
      ]
     },
     "execution_count": 14,
     "metadata": {},
     "output_type": "execute_result"
    }
   ],
   "source": [
    "TimeSpan(-2.25, 3.45).span_cycles()"
   ]
  },
  {
   "cell_type": "markdown",
   "id": "7df256cf-50ac-4acc-8bd2-633495b0bd5d",
   "metadata": {},
   "source": [
    "### with_time"
   ]
  },
  {
   "cell_type": "code",
   "execution_count": 15,
   "id": "0a86122f-816c-440b-8c2b-4407bba2df5e",
   "metadata": {},
   "outputs": [
    {
     "data": {
      "text/plain": [
       "TimeSpan(Time(1, 2), Time(5, 2))"
      ]
     },
     "execution_count": 15,
     "metadata": {},
     "output_type": "execute_result"
    }
   ],
   "source": [
    "TimeSpan(0.25, 1.25).with_time(lambda x: x*2)"
   ]
  },
  {
   "cell_type": "markdown",
   "id": "62ba47d1-1dd5-450e-ada7-f044db9d1cf3",
   "metadata": {},
   "source": [
    "Ok, let's stop a bit here and understand what's happening.<br>\n",
    "We are defining a lambda function that apply the operation multiply by 2 on each element of the TimeSpan, such that 0.25 and 1.25 become 0.5 and 2.5<br>\n",
    "If you are not comfortable with `lambda` syntax, you can simply declare you function the standard way and pass it to `withTime` in such way:"
   ]
  },
  {
   "cell_type": "code",
   "execution_count": 16,
   "id": "2bb5c359-08d5-4030-b6e0-0a6c5c3df96a",
   "metadata": {},
   "outputs": [
    {
     "data": {
      "text/plain": [
       "TimeSpan(Time(1, 2), Time(5, 2))"
      ]
     },
     "execution_count": 16,
     "metadata": {},
     "output_type": "execute_result"
    }
   ],
   "source": [
    "def multiply_by_2(x):\n",
    "    return x * 2\n",
    "\n",
    "TimeSpan(0.25, 1.25).with_time(multiply_by_2)"
   ]
  },
  {
   "cell_type": "markdown",
   "id": "d7ed2a8f-5322-4d93-98f0-dd856fc0ae6d",
   "metadata": {},
   "source": [
    "And the result is exactly the same."
   ]
  },
  {
   "cell_type": "markdown",
   "id": "1fa63336-6149-4847-ba86-35466fcda273",
   "metadata": {},
   "source": [
    "### sect"
   ]
  },
  {
   "cell_type": "markdown",
   "id": "b1465450-8c18-433c-bbde-77ecb7c12ff0",
   "metadata": {},
   "source": [
    "If you need to know what is the TimeSpan common to 2 different TimeSpans, you can just use `sect` "
   ]
  },
  {
   "cell_type": "code",
   "execution_count": 17,
   "id": "9bcc93cd-8426-40a4-9c2a-e6bd16d6d87b",
   "metadata": {},
   "outputs": [
    {
     "data": {
      "text/plain": [
       "TimeSpan(Time(1, 2), Time(3, 4))"
      ]
     },
     "execution_count": 17,
     "metadata": {},
     "output_type": "execute_result"
    }
   ],
   "source": [
    "TimeSpan(0, 0.75).sect(TimeSpan(0.5, 1.5))"
   ]
  },
  {
   "cell_type": "code",
   "execution_count": 18,
   "id": "dbf422a5-3541-4976-bb5f-d09a3cbb73b6",
   "metadata": {},
   "outputs": [
    {
     "data": {
      "text/plain": [
       "TimeSpan(Time(1, 2), Time(3, 4))"
      ]
     },
     "execution_count": 18,
     "metadata": {},
     "output_type": "execute_result"
    }
   ],
   "source": [
    "TimeSpan(0.5, 1.75).sect(TimeSpan(0, 0.75))"
   ]
  },
  {
   "cell_type": "markdown",
   "id": "fff4e695-b00c-4523-92fb-23a7cd49ddea",
   "metadata": {},
   "source": [
    "If they do not overlap, then the result is None"
   ]
  },
  {
   "cell_type": "code",
   "execution_count": 19,
   "id": "f8bd340b-28c7-473b-a981-9a214bfacf12",
   "metadata": {},
   "outputs": [
    {
     "data": {
      "text/plain": [
       "True"
      ]
     },
     "execution_count": 19,
     "metadata": {},
     "output_type": "execute_result"
    }
   ],
   "source": [
    "no_overlap = TimeSpan(0, 0.75).sect(TimeSpan(1.5, 2))\n",
    "no_overlap is None"
   ]
  },
  {
   "cell_type": "markdown",
   "id": "44479ab3-3984-45ea-8629-15e55a5fefcc",
   "metadata": {},
   "source": [
    "# Event"
   ]
  },
  {
   "cell_type": "markdown",
   "id": "71e6cc37-be2e-4a70-a9be-c75701ceaeb1",
   "metadata": {},
   "source": [
    "Everythin in TIdal is an event, and Pattern (don't worry will get to it) modifies them.<br>\n",
    "Then, the scheduler who is responsible to making happen event with regards to Time, queries then and make them alive,<br>\n",
    "An event is composed of three different constituents: \n",
    "- a whole (a TimeSpan instance) which represents the duration an event is active, regardless of the query \n",
    "- a part (a TimeSpan instance) which represents the duration an event is active, during the TimeSpan of the cycle it is queried\n",
    "- a value (a string, a number, etc... ) which identifies it. Think of it as a key.\n",
    "\n",
    "Event possesses methods `withSpan`, `withValue` and `hasOnset`. These methods modifies with functions the differents constituents of an Event"
   ]
  },
  {
   "cell_type": "code",
   "execution_count": 20,
   "id": "463d6026-b0db-46cd-8920-82de5ec89dc1",
   "metadata": {},
   "outputs": [
    {
     "data": {
      "text/plain": [
       "Event(TimeSpan(Time(1, 4), Time(5, 4)), TimeSpan(Time(1, 2), Time(3, 4)), 'hello')"
      ]
     },
     "execution_count": 20,
     "metadata": {},
     "output_type": "execute_result"
    }
   ],
   "source": [
    "Event(TimeSpan(0.25, 1.25), TimeSpan(0.5, 0.75), \"hello\")"
   ]
  },
  {
   "cell_type": "code",
   "execution_count": 21,
   "id": "4f6fae5e-04d6-4834-9a72-c135d504f05c",
   "metadata": {},
   "outputs": [
    {
     "data": {
      "text/plain": [
       "Event(TimeSpan(Time(1, 4), Time(5, 4)), TimeSpan(Time(1, 2), Time(3, 4)), 2)"
      ]
     },
     "execution_count": 21,
     "metadata": {},
     "output_type": "execute_result"
    }
   ],
   "source": [
    "Event(TimeSpan(0.25, 1.25), TimeSpan(0.5, 0.75), 2)"
   ]
  },
  {
   "cell_type": "markdown",
   "id": "fdf932fb-9f81-4f3b-a3a5-ca0375482ab1",
   "metadata": {},
   "source": [
    "### with_span"
   ]
  },
  {
   "cell_type": "code",
   "execution_count": 22,
   "id": "533ef3e1-a1fa-4702-9713-0b3c89938a5f",
   "metadata": {},
   "outputs": [
    {
     "data": {
      "text/plain": [
       "Event(TimeSpan(Time(9, 4), Time(13, 4)), TimeSpan(Time(5, 2), Time(11, 4)), 'hello')"
      ]
     },
     "execution_count": 22,
     "metadata": {},
     "output_type": "execute_result"
    }
   ],
   "source": [
    "Event(TimeSpan(0.25, 1.25), TimeSpan(0.5, 0.75), \"hello\").with_span(lambda span: span.with_time(lambda x: x+2))"
   ]
  },
  {
   "cell_type": "markdown",
   "id": "e567c52b-ce11-41fd-a466-99566c41f2b8",
   "metadata": {},
   "source": [
    "Ok, just a moment of relfexion here. Even though `withSpan` takes a function as a parameter, it cannot take *any* function.<br>\n",
    "For this to be working, this function has to be a method *known* to TimeSpan (i.e. spanCycles, withTime or sect).<br>\n",
    "For example, this does not work (unless the + operator is overloaded for class TimeSpan - which is not the case atm)."
   ]
  },
  {
   "cell_type": "code",
   "execution_count": 23,
   "id": "9ef427c1-933f-4946-b68c-e962a72d0b0e",
   "metadata": {},
   "outputs": [],
   "source": [
    "# This does not work !!!\n",
    "# Event(TimeSpan(0.25, 1.25), TimeSpan(0.5, 0.75), \"hello\").withSpan(lambda x: x+2)"
   ]
  },
  {
   "cell_type": "markdown",
   "id": "69387157-bd17-4cc2-b6b0-f9de5a021f22",
   "metadata": {},
   "source": [
    "Also, be aware that any var pass to lambda will work, we use `span` here for convenience but it could be *anything*<br>"
   ]
  },
  {
   "cell_type": "code",
   "execution_count": 24,
   "id": "5af94bd6-273f-4665-8da5-0ee3f36f2110",
   "metadata": {},
   "outputs": [
    {
     "data": {
      "text/plain": [
       "Event(TimeSpan(Time(9, 4), Time(13, 4)), TimeSpan(Time(5, 2), Time(11, 4)), 'hello')"
      ]
     },
     "execution_count": 24,
     "metadata": {},
     "output_type": "execute_result"
    }
   ],
   "source": [
    "Event(TimeSpan(0.25, 1.25), TimeSpan(0.5, 0.75), \"hello\").with_span(lambda x: x.with_time(lambda x: x+2))"
   ]
  },
  {
   "cell_type": "code",
   "execution_count": 25,
   "id": "cea79855-4aeb-402c-b067-d981dfcd6687",
   "metadata": {},
   "outputs": [
    {
     "data": {
      "text/plain": [
       "Event([TimeSpan(Time(1, 4), Time(1, 1)), TimeSpan(Time(1, 1), Time(5, 4))], [TimeSpan(Time(1, 2), Time(3, 4))], 'hello')"
      ]
     },
     "execution_count": 25,
     "metadata": {},
     "output_type": "execute_result"
    }
   ],
   "source": [
    "Event(TimeSpan(0.25, 1.25), TimeSpan(0.5, 0.75), \"hello\").with_span(lambda span: span.span_cycles())"
   ]
  },
  {
   "cell_type": "code",
   "execution_count": 26,
   "id": "1872bdc0-e618-4b47-aa40-a04759b99e01",
   "metadata": {},
   "outputs": [
    {
     "data": {
      "text/plain": [
       "Event(TimeSpan(Time(1, 4), Time(5, 4)), TimeSpan(Time(1, 2), Time(3, 4)), 'hello')"
      ]
     },
     "execution_count": 26,
     "metadata": {},
     "output_type": "execute_result"
    }
   ],
   "source": [
    "Event(TimeSpan(0.25, 1.25), TimeSpan(0.5, 0.75), \"hello\").with_span(lambda span: span.sect(TimeSpan(0,2)))"
   ]
  },
  {
   "cell_type": "markdown",
   "id": "e4773602-6627-43b7-9ae2-b7476b191df9",
   "metadata": {},
   "source": [
    "### with_value"
   ]
  },
  {
   "cell_type": "code",
   "execution_count": 27,
   "id": "35b886fb-a89a-4445-bde1-8278b74b38d2",
   "metadata": {},
   "outputs": [
    {
     "data": {
      "text/plain": [
       "Event(TimeSpan(Time(1, 4), Time(5, 4)), TimeSpan(Time(1, 2), Time(3, 4)), 'HELLO')"
      ]
     },
     "execution_count": 27,
     "metadata": {},
     "output_type": "execute_result"
    }
   ],
   "source": [
    "Event(TimeSpan(0.25, 1.25), TimeSpan(0.5, 0.75), \"hello\").with_value(lambda x: x.upper())"
   ]
  },
  {
   "cell_type": "code",
   "execution_count": 28,
   "id": "5cf01a11-7f62-4e9e-91e2-40963a0c98e3",
   "metadata": {},
   "outputs": [
    {
     "data": {
      "text/plain": [
       "Event(TimeSpan(Time(1, 4), Time(5, 4)), TimeSpan(Time(1, 2), Time(3, 4)), 12)"
      ]
     },
     "execution_count": 28,
     "metadata": {},
     "output_type": "execute_result"
    }
   ],
   "source": [
    "Event(TimeSpan(0.25, 1.25), TimeSpan(0.5, 0.75), 10).with_value(lambda x: x + 2)"
   ]
  },
  {
   "cell_type": "markdown",
   "id": "594b9c31-901f-415d-8aba-2f0b85470c86",
   "metadata": {},
   "source": [
    "### has_onset"
   ]
  },
  {
   "cell_type": "code",
   "execution_count": 29,
   "id": "aa068a49-4711-45fd-a4e1-338d5f1a6295",
   "metadata": {},
   "outputs": [
    {
     "data": {
      "text/plain": [
       "False"
      ]
     },
     "execution_count": 29,
     "metadata": {},
     "output_type": "execute_result"
    }
   ],
   "source": [
    "Event(TimeSpan(0.25, 1.25), TimeSpan(0.5, 0.75), \"hello\").has_onset()"
   ]
  },
  {
   "cell_type": "code",
   "execution_count": 30,
   "id": "fdfe3c9a-e8aa-4f9c-9efb-ee3654f5c154",
   "metadata": {},
   "outputs": [
    {
     "data": {
      "text/plain": [
       "True"
      ]
     },
     "execution_count": 30,
     "metadata": {},
     "output_type": "execute_result"
    }
   ],
   "source": [
    "Event(TimeSpan(0.5, 1.25), TimeSpan(0.5, 0.75), \"hello\").has_onset()"
   ]
  }
 ],
 "metadata": {
  "kernelspec": {
   "display_name": "Python 3 (ipykernel)",
   "language": "python",
   "name": "python3"
  },
  "language_info": {
   "codemirror_mode": {
    "name": "ipython",
    "version": 3
   },
   "file_extension": ".py",
   "mimetype": "text/x-python",
   "name": "python",
   "nbconvert_exporter": "python",
   "pygments_lexer": "ipython3",
   "version": "3.9.7"
  }
 },
 "nbformat": 4,
 "nbformat_minor": 5
}
